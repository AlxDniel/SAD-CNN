{
 "cells": [
  {
   "cell_type": "code",
   "execution_count": 1,
   "id": "6fc09e01",
   "metadata": {
    "scrolled": true
   },
   "outputs": [
    {
     "name": "stderr",
     "output_type": "stream",
     "text": [
      "\n",
      "Bad key text.latex.preview in file /opt/anaconda/lib/python3.8/site-packages/matplotlib/mpl-data/stylelib/_classic_test.mplstyle, line 123 ('text.latex.preview : False')\n",
      "You probably need to get an updated matplotlibrc file from\n",
      "https://github.com/matplotlib/matplotlib/blob/v3.7.0/matplotlibrc.template\n",
      "or from the matplotlib source distribution\n",
      "\n",
      "Bad key mathtext.fallback_to_cm in file /opt/anaconda/lib/python3.8/site-packages/matplotlib/mpl-data/stylelib/_classic_test.mplstyle, line 155 ('mathtext.fallback_to_cm : True  # When True, use symbols from the Computer Modern')\n",
      "You probably need to get an updated matplotlibrc file from\n",
      "https://github.com/matplotlib/matplotlib/blob/v3.7.0/matplotlibrc.template\n",
      "or from the matplotlib source distribution\n",
      "\n",
      "Bad key savefig.jpeg_quality in file /opt/anaconda/lib/python3.8/site-packages/matplotlib/mpl-data/stylelib/_classic_test.mplstyle, line 418 ('savefig.jpeg_quality: 95       # when a jpeg is saved, the default quality parameter.')\n",
      "You probably need to get an updated matplotlibrc file from\n",
      "https://github.com/matplotlib/matplotlib/blob/v3.7.0/matplotlibrc.template\n",
      "or from the matplotlib source distribution\n",
      "\n",
      "Bad key keymap.all_axes in file /opt/anaconda/lib/python3.8/site-packages/matplotlib/mpl-data/stylelib/_classic_test.mplstyle, line 466 ('keymap.all_axes : a                 # enable all axes')\n",
      "You probably need to get an updated matplotlibrc file from\n",
      "https://github.com/matplotlib/matplotlib/blob/v3.7.0/matplotlibrc.template\n",
      "or from the matplotlib source distribution\n",
      "\n",
      "Bad key animation.avconv_path in file /opt/anaconda/lib/python3.8/site-packages/matplotlib/mpl-data/stylelib/_classic_test.mplstyle, line 477 ('animation.avconv_path: avconv     # Path to avconv binary. Without full path')\n",
      "You probably need to get an updated matplotlibrc file from\n",
      "https://github.com/matplotlib/matplotlib/blob/v3.7.0/matplotlibrc.template\n",
      "or from the matplotlib source distribution\n",
      "\n",
      "Bad key animation.avconv_args in file /opt/anaconda/lib/python3.8/site-packages/matplotlib/mpl-data/stylelib/_classic_test.mplstyle, line 479 ('animation.avconv_args:            # Additional arguments to pass to avconv')\n",
      "You probably need to get an updated matplotlibrc file from\n",
      "https://github.com/matplotlib/matplotlib/blob/v3.7.0/matplotlibrc.template\n",
      "or from the matplotlib source distribution\n"
     ]
    },
    {
     "name": "stdout",
     "output_type": "stream",
     "text": [
      "INFO: Pandarallel will run on 32 workers.\n",
      "INFO: Pandarallel will use Memory file system to transfer data between the main process and workers.\n"
     ]
    }
   ],
   "source": [
    "import pandas as pd\n",
    "import seaborn as sns\n",
    "import matplotlib.pyplot as plt\n",
    "from pandarallel import pandarallel\n",
    "from astropy.io import fits\n",
    "pandarallel.initialize(progress_bar=True)\n",
    "import random\n",
    "from numpy.random import default_rng\n",
    "import numpy as np\n",
    "rng = default_rng(42)\n",
    "import shutil\n",
    "import glob\n",
    "from scipy import ndimage\n",
    "import os"
   ]
  },
  {
   "cell_type": "code",
   "execution_count": 3,
   "id": "33ed4796",
   "metadata": {},
   "outputs": [],
   "source": [
    "def abrir_fits(ruta):\n",
    "    hdu_list = fits.open(ruta,memmap=False)\n",
    "    image_data = hdu_list[0].data\n",
    "    hdu_list.close()\n",
    "    return image_data"
   ]
  },
  {
   "cell_type": "code",
   "execution_count": 4,
   "id": "a0303122",
   "metadata": {},
   "outputs": [],
   "source": [
    "#### INCLINATED GALAXIES ####\n",
    "au_ss_rot_incl =  pd.read_csv('list_incl_rand.txt',header=None)\n",
    "path_fits_incl_rand = \"/data/processing/avera/proyecto_deep/fits_inclinated_rand/\"\n",
    "fits_files_incl_rand = glob.glob( os.path.join(path_fits_incl_rand, \"*\"))\n",
    "detec_rand = pd.read_csv('Detecciones_inclinated_rand.csv')\n",
    "datos = pd.DataFrame({\"direccion\":fits_files_incl_rand})\n",
    "datos['label']=0\n",
    "datos['snap']=-1\n",
    "datos['sb']=0\n",
    "datos['incl']=-1\n",
    "datos['rot']=-1\n",
    "\n",
    "count=0\n",
    "\n",
    "for n in range(len(detec_rand)):\n",
    "    au = detec_rand['AU'][n]\n",
    "    ss = detec_rand['ss'][n]\n",
    "    incl = detec_rand['incl'][n]\n",
    "    rot = detec_rand['rot'][n]\n",
    "    \n",
    "    for m in range(10):\n",
    "        sup = 24+m\n",
    "        mask = datos['direccion'] == f'/data/processing/avera/proyecto_deep/fits_inclinated_rand/AU{au}_snap{ss}_rot{rot}_incl{incl}_SB{sup}.fits'\n",
    "    \n",
    "        if detec_rand[str(sup)][count]==1:\n",
    "            datos.loc[mask,'label'] = 1\n",
    "        \n",
    "        datos.loc[mask,'AU']=au\n",
    "        datos.loc[mask,'sb']=sup\n",
    "        datos.loc[mask,'incl']=rot\n",
    "        datos.loc[mask,'snap']=ss\n",
    "        datos.loc[mask,'rot']=incl\n",
    "        \n",
    "    count +=1"
   ]
  },
  {
   "cell_type": "code",
   "execution_count": 5,
   "id": "cf55836f",
   "metadata": {},
   "outputs": [],
   "source": [
    "datos['name']=datos.label.apply(str)+\"_\"+datos.direccion.str.split('/').str[6].str.split(\"_\").str[0]+\"_\"+datos.direccion.str.split('/').str[6].str.split(\"_\").str[1]+\"_rot\"+datos.direccion.str.split('/').str[6].str.split(\"_\").str[3].str[4:]+\"_incl\"+datos.direccion.str.split('/').str[6].str.split(\"_\").str[2].str[3:]+\"_\"+datos.direccion.str.split('/').str[6].str.split(\"_\").str[4]"
   ]
  },
  {
   "cell_type": "code",
   "execution_count": 6,
   "id": "a4df6236",
   "metadata": {
    "scrolled": true
   },
   "outputs": [
    {
     "data": {
      "application/vnd.jupyter.widget-view+json": {
       "model_id": "7f082f719b4848f19b7c7d2f01f94721",
       "version_major": 2,
       "version_minor": 0
      },
      "text/plain": [
       "VBox(children=(HBox(children=(IntProgress(value=0, description='0.00%', max=75), Label(value='0 / 75'))), HBox…"
      ]
     },
     "metadata": {},
     "output_type": "display_data"
    }
   ],
   "source": [
    "datos[\"image\"] = datos.parallel_apply(lambda row : abrir_fits(row[\"direccion\"]), axis=1)"
   ]
  },
  {
   "cell_type": "code",
   "execution_count": 7,
   "id": "ac8dd82a",
   "metadata": {},
   "outputs": [],
   "source": [
    "datos[\"label\"] = datos.label.astype(\"int\")"
   ]
  },
  {
   "cell_type": "code",
   "execution_count": 11,
   "id": "c9484be0",
   "metadata": {},
   "outputs": [],
   "source": [
    "np.savetxt('indicesge26.dat',np.array(datos[datos['sb']>=26].index))"
   ]
  },
  {
   "cell_type": "code",
   "execution_count": 8,
   "id": "5e986ae4",
   "metadata": {},
   "outputs": [],
   "source": [
    "x_train = np.empty((len(datos[datos['snap']>105]),300, 300,3))\n",
    "\n",
    "for i,ima in enumerate(datos[\"image\"][datos['snap']>105]):\n",
    "    img2 = np.zeros( ( np.array(ima).shape[0], np.array(ima).shape[1], 3 ) )\n",
    "    img2[:,:,0] = ima # same value in each channel\n",
    "    img2[:,:,1] = ima\n",
    "    img2[:,:,2] = ima\n",
    "    x_train[i] = img2\n"
   ]
  },
  {
   "cell_type": "code",
   "execution_count": 10,
   "id": "34568b12",
   "metadata": {},
   "outputs": [],
   "source": [
    "import h5py\n",
    "with h5py.File(\"/data/processing/avera/proyecto_deep/inclinated_rand2.h5\", 'w') as hdf:\n",
    "    # Guardar set de entrenamiento\n",
    "    hdf.create_dataset('x_test', data=x_train)\n",
    "    hdf.create_dataset('test_labels', data=datos[datos['snap']>105].label)\n",
    "    hdf.create_dataset('test_sb', data=datos[datos['snap']>105].sb)\n",
    "    \n",
    "    # Guardar set de validación\n",
    "    #hdf.create_dataset('x_val', data=x_val)\n",
    "    #hdf.create_dataset('val_labels', data=val.label)\n",
    "    \n",
    "    # Guardar set de testeo\n",
    "    #hdf.create_dataset('x_test', data=x_test)\n",
    "    #hdf.create_dataset('test_labels', data=test.label)\n"
   ]
  }
 ],
 "metadata": {
  "kernelspec": {
   "display_name": "Python 3 (ipykernel)",
   "language": "python",
   "name": "python3"
  },
  "language_info": {
   "codemirror_mode": {
    "name": "ipython",
    "version": 3
   },
   "file_extension": ".py",
   "mimetype": "text/x-python",
   "name": "python",
   "nbconvert_exporter": "python",
   "pygments_lexer": "ipython3",
   "version": "3.8.5"
  }
 },
 "nbformat": 4,
 "nbformat_minor": 5
}
